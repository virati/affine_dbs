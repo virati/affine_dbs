{
 "cells": [
  {
   "cell_type": "markdown",
   "metadata": {},
   "source": [
    "# Control-affine Analysis of Psychiatric DBS\n",
    "\n",
    "## Overview\n",
    "Control theory provides a powerful framework to study ways to influence a system, even when the insides of that system remain unclear.\n",
    "Lucky for us, it also provides a way to study the insides of a system indirectly by our ability to perturb its behavior.\n",
    "Framing psychiatric DBS as a control-affine problem opens up a powerful new way to design adaptive DBS devices and to study the neural dynamics underlying emotion.\n",
    "\n",
    "In this notebook we'll outline the use of tools from nonlinear control theory in studying and treating severe psychiatric illnesses.\n",
    "\n",
    "![PICTURE HERE]()\n",
    "\n",
    "## Control-Affine\n",
    "A basic control-affine system takes the form\n",
    "\n",
    "$\\dot{x} = f_\\mathcal{L}(x) + g(x) \\cdot \\vec{u}(t)$\n",
    "\n",
    "Here, the behavior, or *dynamics* of the system's state $\\vec{x}$ is governed by a set of rules. The first rule is the system's natural behavior $f_\\psi(x)$.\n",
    "\n",
    "The second rule is split into two parts:\n",
    "$\\vec{u}(t)$ is the external driving force that is added to the system and $g(x)$ is the set of rules that govern how the driving force affects the state variables.\n",
    "\n",
    "## Controllability\n",
    "An important concept in control theory is the idea of *controllability*.\n",
    "This translates to the ability of our driving force to take our system's state to *any arbitrary location*.\n",
    "\n",
    "Of course, in the brain, we don't necessarily care to have the ability to take the system's state to arbitrary locations.\n",
    "Instead, we care about taking the brain's state from a set that's associated with disease and either (a) moving it to another set of states associated with health or (b) moving it away from the set associated with disease.\n",
    "\n",
    "The first approach is what we'll focus on in this notebook.\n",
    "Future work will focus on the second approach.\n",
    "\n",
    "## The model\n",
    "### Start with a network\n",
    "Let's define a structural network for our brain model\n",
    "\n",
    "For this notebook we'll assume the Laplacian is constant, though future work will implement brain *plasticity* as dynamics on the Laplacian.\n",
    "\n",
    "### Define some dynamics\n",
    "We've connected the nodes, now we need to define what the nodes do with those connections.\n",
    "\n",
    "\n",
    "### Link it to our behavior and disease\n",
    "\n",
    "\n",
    "## Characterizing control\n",
    "Now that we've motivated and described our model, we'll characterize it in the control-affine framework.\n",
    "Specifically, our goal is to understand how well our control does in moving us around the statespace, **in the context of the disease we're treating**.\n",
    "This piece is important since we're not characterizing the ability to arbitrarily go anywhere in the statespace.\n",
    "We don't care about this.\n",
    "\n",
    "### Designing a controller\n",
    "Finally, we're going to design a controller $\\vec{u}$ that enables us to adaptively achieve a desired end-state.\n"
   ]
  }
 ],
 "metadata": {
  "kernelspec": {
   "display_name": "Python 3",
   "language": "python",
   "name": "python3"
  },
  "language_info": {
   "codemirror_mode": {
    "name": "ipython",
    "version": 3
   },
   "file_extension": ".py",
   "mimetype": "text/x-python",
   "name": "python",
   "nbconvert_exporter": "python",
   "pygments_lexer": "ipython3",
   "version": "3.8.1"
  }
 },
 "nbformat": 4,
 "nbformat_minor": 2
}
